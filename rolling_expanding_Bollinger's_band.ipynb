{
 "cells": [
  {
   "cell_type": "code",
   "execution_count": 1,
   "metadata": {},
   "outputs": [],
   "source": [
    "import pandas as pd\n",
    "import numpy as np\n",
    "import matplotlib.pyplot as plt\n",
    "%matplotlib inline"
   ]
  },
  {
   "cell_type": "code",
   "execution_count": 4,
   "metadata": {},
   "outputs": [],
   "source": [
    "df=pd.read_csv('WMT.CSV',index_col='Date',parse_dates=True)"
   ]
  },
  {
   "cell_type": "code",
   "execution_count": 6,
   "metadata": {},
   "outputs": [
    {
     "data": {
      "text/plain": [
       "DatetimeIndex(['2020-01-23', '2020-01-24', '2020-01-27', '2020-01-28',\n",
       "               '2020-01-29', '2020-01-30', '2020-01-31', '2020-02-03',\n",
       "               '2020-02-04', '2020-02-05',\n",
       "               ...\n",
       "               '2021-01-08', '2021-01-11', '2021-01-12', '2021-01-13',\n",
       "               '2021-01-14', '2021-01-15', '2021-01-19', '2021-01-20',\n",
       "               '2021-01-21', '2021-01-22'],\n",
       "              dtype='datetime64[ns]', name='Date', length=253, freq=None)"
      ]
     },
     "execution_count": 6,
     "metadata": {},
     "output_type": "execute_result"
    }
   ],
   "source": [
    "df.index"
   ]
  },
  {
   "cell_type": "code",
   "execution_count": 7,
   "metadata": {},
   "outputs": [
    {
     "data": {
      "text/html": [
       "<div>\n",
       "<style scoped>\n",
       "    .dataframe tbody tr th:only-of-type {\n",
       "        vertical-align: middle;\n",
       "    }\n",
       "\n",
       "    .dataframe tbody tr th {\n",
       "        vertical-align: top;\n",
       "    }\n",
       "\n",
       "    .dataframe thead th {\n",
       "        text-align: right;\n",
       "    }\n",
       "</style>\n",
       "<table border=\"1\" class=\"dataframe\">\n",
       "  <thead>\n",
       "    <tr style=\"text-align: right;\">\n",
       "      <th></th>\n",
       "      <th>Open</th>\n",
       "      <th>High</th>\n",
       "      <th>Low</th>\n",
       "      <th>Close</th>\n",
       "      <th>Adj Close</th>\n",
       "      <th>Volume</th>\n",
       "    </tr>\n",
       "    <tr>\n",
       "      <th>Date</th>\n",
       "      <th></th>\n",
       "      <th></th>\n",
       "      <th></th>\n",
       "      <th></th>\n",
       "      <th></th>\n",
       "      <th></th>\n",
       "    </tr>\n",
       "  </thead>\n",
       "  <tbody>\n",
       "    <tr>\n",
       "      <th>2020-01-23</th>\n",
       "      <td>116.209999</td>\n",
       "      <td>116.309998</td>\n",
       "      <td>115.040001</td>\n",
       "      <td>115.809998</td>\n",
       "      <td>113.908485</td>\n",
       "      <td>4305100</td>\n",
       "    </tr>\n",
       "    <tr>\n",
       "      <th>2020-01-24</th>\n",
       "      <td>116.000000</td>\n",
       "      <td>116.029999</td>\n",
       "      <td>114.150002</td>\n",
       "      <td>114.370003</td>\n",
       "      <td>112.492134</td>\n",
       "      <td>4383400</td>\n",
       "    </tr>\n",
       "    <tr>\n",
       "      <th>2020-01-27</th>\n",
       "      <td>113.190002</td>\n",
       "      <td>116.230003</td>\n",
       "      <td>112.680000</td>\n",
       "      <td>115.860001</td>\n",
       "      <td>113.957664</td>\n",
       "      <td>7018400</td>\n",
       "    </tr>\n",
       "    <tr>\n",
       "      <th>2020-01-28</th>\n",
       "      <td>115.980003</td>\n",
       "      <td>116.900002</td>\n",
       "      <td>115.949997</td>\n",
       "      <td>116.599998</td>\n",
       "      <td>114.685501</td>\n",
       "      <td>5270200</td>\n",
       "    </tr>\n",
       "    <tr>\n",
       "      <th>2020-01-29</th>\n",
       "      <td>116.559998</td>\n",
       "      <td>117.120003</td>\n",
       "      <td>115.889999</td>\n",
       "      <td>115.889999</td>\n",
       "      <td>113.987167</td>\n",
       "      <td>3775500</td>\n",
       "    </tr>\n",
       "    <tr>\n",
       "      <th>...</th>\n",
       "      <td>...</td>\n",
       "      <td>...</td>\n",
       "      <td>...</td>\n",
       "      <td>...</td>\n",
       "      <td>...</td>\n",
       "      <td>...</td>\n",
       "    </tr>\n",
       "    <tr>\n",
       "      <th>2021-01-15</th>\n",
       "      <td>145.139999</td>\n",
       "      <td>145.899994</td>\n",
       "      <td>143.669998</td>\n",
       "      <td>144.639999</td>\n",
       "      <td>144.639999</td>\n",
       "      <td>11973500</td>\n",
       "    </tr>\n",
       "    <tr>\n",
       "      <th>2021-01-19</th>\n",
       "      <td>144.639999</td>\n",
       "      <td>145.070007</td>\n",
       "      <td>142.669998</td>\n",
       "      <td>143.389999</td>\n",
       "      <td>143.389999</td>\n",
       "      <td>8041200</td>\n",
       "    </tr>\n",
       "    <tr>\n",
       "      <th>2021-01-20</th>\n",
       "      <td>143.589996</td>\n",
       "      <td>145.660004</td>\n",
       "      <td>142.889999</td>\n",
       "      <td>145.509995</td>\n",
       "      <td>145.509995</td>\n",
       "      <td>7925200</td>\n",
       "    </tr>\n",
       "    <tr>\n",
       "      <th>2021-01-21</th>\n",
       "      <td>145.360001</td>\n",
       "      <td>145.729996</td>\n",
       "      <td>144.210007</td>\n",
       "      <td>144.850006</td>\n",
       "      <td>144.850006</td>\n",
       "      <td>4783300</td>\n",
       "    </tr>\n",
       "    <tr>\n",
       "      <th>2021-01-22</th>\n",
       "      <td>145.600006</td>\n",
       "      <td>147.339996</td>\n",
       "      <td>145.119995</td>\n",
       "      <td>146.330002</td>\n",
       "      <td>146.330002</td>\n",
       "      <td>6398400</td>\n",
       "    </tr>\n",
       "  </tbody>\n",
       "</table>\n",
       "<p>253 rows × 6 columns</p>\n",
       "</div>"
      ],
      "text/plain": [
       "                  Open        High         Low       Close   Adj Close  \\\n",
       "Date                                                                     \n",
       "2020-01-23  116.209999  116.309998  115.040001  115.809998  113.908485   \n",
       "2020-01-24  116.000000  116.029999  114.150002  114.370003  112.492134   \n",
       "2020-01-27  113.190002  116.230003  112.680000  115.860001  113.957664   \n",
       "2020-01-28  115.980003  116.900002  115.949997  116.599998  114.685501   \n",
       "2020-01-29  116.559998  117.120003  115.889999  115.889999  113.987167   \n",
       "...                ...         ...         ...         ...         ...   \n",
       "2021-01-15  145.139999  145.899994  143.669998  144.639999  144.639999   \n",
       "2021-01-19  144.639999  145.070007  142.669998  143.389999  143.389999   \n",
       "2021-01-20  143.589996  145.660004  142.889999  145.509995  145.509995   \n",
       "2021-01-21  145.360001  145.729996  144.210007  144.850006  144.850006   \n",
       "2021-01-22  145.600006  147.339996  145.119995  146.330002  146.330002   \n",
       "\n",
       "              Volume  \n",
       "Date                  \n",
       "2020-01-23   4305100  \n",
       "2020-01-24   4383400  \n",
       "2020-01-27   7018400  \n",
       "2020-01-28   5270200  \n",
       "2020-01-29   3775500  \n",
       "...              ...  \n",
       "2021-01-15  11973500  \n",
       "2021-01-19   8041200  \n",
       "2021-01-20   7925200  \n",
       "2021-01-21   4783300  \n",
       "2021-01-22   6398400  \n",
       "\n",
       "[253 rows x 6 columns]"
      ]
     },
     "execution_count": 7,
     "metadata": {},
     "output_type": "execute_result"
    }
   ],
   "source": [
    "df"
   ]
  },
  {
   "cell_type": "code",
   "execution_count": 12,
   "metadata": {},
   "outputs": [
    {
     "data": {
      "text/plain": [
       "<matplotlib.axes._subplots.AxesSubplot at 0x20771e98610>"
      ]
     },
     "execution_count": 12,
     "metadata": {},
     "output_type": "execute_result"
    },
    {
     "data": {
      "image/png": "[encoded data removed]",
      "text/plain": [
       "<Figure size 432x432 with 1 Axes>"
      ]
     },
     "metadata": {
      "needs_background": "light"
     },
     "output_type": "display_data"
    }
   ],
   "source": [
    "df['Close_check']=df['Close'].rolling(window=7).mean()\n",
    "df[['Close_check','Close']].plot(figsize=(6,6))"
   ]
  },
  {
   "cell_type": "code",
   "execution_count": 14,
   "metadata": {},
   "outputs": [
    {
     "data": {
      "text/plain": [
       "<matplotlib.axes._subplots.AxesSubplot at 0x20771e0b0d0>"
      ]
     },
     "execution_count": 14,
     "metadata": {},
     "output_type": "execute_result"
    },
    {
     "data": {
      "image/png": "[encoded data removed]",
      "text/plain": [
       "<Figure size 432x432 with 1 Axes>"
      ]
     },
     "metadata": {
      "needs_background": "light"
     },
     "output_type": "display_data"
    }
   ],
   "source": [
    "df['Close_check'].expanding().mean().plot(figsize=(6,6))\n"
   ]
  },
  {
   "cell_type": "code",
   "execution_count": 15,
   "metadata": {},
   "outputs": [
    {
     "data": {
      "text/html": [
       "<div>\n",
       "<style scoped>\n",
       "    .dataframe tbody tr th:only-of-type {\n",
       "        vertical-align: middle;\n",
       "    }\n",
       "\n",
       "    .dataframe tbody tr th {\n",
       "        vertical-align: top;\n",
       "    }\n",
       "\n",
       "    .dataframe thead th {\n",
       "        text-align: right;\n",
       "    }\n",
       "</style>\n",
       "<table border=\"1\" class=\"dataframe\">\n",
       "  <thead>\n",
       "    <tr style=\"text-align: right;\">\n",
       "      <th></th>\n",
       "      <th>Open</th>\n",
       "      <th>High</th>\n",
       "      <th>Low</th>\n",
       "      <th>Close</th>\n",
       "      <th>Adj Close</th>\n",
       "      <th>Volume</th>\n",
       "      <th>Close_check</th>\n",
       "    </tr>\n",
       "    <tr>\n",
       "      <th>Date</th>\n",
       "      <th></th>\n",
       "      <th></th>\n",
       "      <th></th>\n",
       "      <th></th>\n",
       "      <th></th>\n",
       "      <th></th>\n",
       "      <th></th>\n",
       "    </tr>\n",
       "  </thead>\n",
       "  <tbody>\n",
       "    <tr>\n",
       "      <th>2020-01-23</th>\n",
       "      <td>116.209999</td>\n",
       "      <td>116.309998</td>\n",
       "      <td>115.040001</td>\n",
       "      <td>NaN</td>\n",
       "      <td>113.908485</td>\n",
       "      <td>4305100</td>\n",
       "      <td>NaN</td>\n",
       "    </tr>\n",
       "    <tr>\n",
       "      <th>2020-01-24</th>\n",
       "      <td>116.000000</td>\n",
       "      <td>116.029999</td>\n",
       "      <td>114.150002</td>\n",
       "      <td>NaN</td>\n",
       "      <td>112.492134</td>\n",
       "      <td>4383400</td>\n",
       "      <td>NaN</td>\n",
       "    </tr>\n",
       "    <tr>\n",
       "      <th>2020-01-27</th>\n",
       "      <td>113.190002</td>\n",
       "      <td>116.230003</td>\n",
       "      <td>112.680000</td>\n",
       "      <td>NaN</td>\n",
       "      <td>113.957664</td>\n",
       "      <td>7018400</td>\n",
       "      <td>NaN</td>\n",
       "    </tr>\n",
       "    <tr>\n",
       "      <th>2020-01-28</th>\n",
       "      <td>115.980003</td>\n",
       "      <td>116.900002</td>\n",
       "      <td>115.949997</td>\n",
       "      <td>NaN</td>\n",
       "      <td>114.685501</td>\n",
       "      <td>5270200</td>\n",
       "      <td>NaN</td>\n",
       "    </tr>\n",
       "    <tr>\n",
       "      <th>2020-01-29</th>\n",
       "      <td>116.559998</td>\n",
       "      <td>117.120003</td>\n",
       "      <td>115.889999</td>\n",
       "      <td>NaN</td>\n",
       "      <td>113.987167</td>\n",
       "      <td>3775500</td>\n",
       "      <td>NaN</td>\n",
       "    </tr>\n",
       "    <tr>\n",
       "      <th>...</th>\n",
       "      <td>...</td>\n",
       "      <td>...</td>\n",
       "      <td>...</td>\n",
       "      <td>...</td>\n",
       "      <td>...</td>\n",
       "      <td>...</td>\n",
       "      <td>...</td>\n",
       "    </tr>\n",
       "    <tr>\n",
       "      <th>2021-01-15</th>\n",
       "      <td>145.139999</td>\n",
       "      <td>145.899994</td>\n",
       "      <td>143.669998</td>\n",
       "      <td>146.942856</td>\n",
       "      <td>144.639999</td>\n",
       "      <td>11973500</td>\n",
       "      <td>146.521019</td>\n",
       "    </tr>\n",
       "    <tr>\n",
       "      <th>2021-01-19</th>\n",
       "      <td>144.639999</td>\n",
       "      <td>145.070007</td>\n",
       "      <td>142.669998</td>\n",
       "      <td>146.477142</td>\n",
       "      <td>143.389999</td>\n",
       "      <td>8041200</td>\n",
       "      <td>146.666325</td>\n",
       "    </tr>\n",
       "    <tr>\n",
       "      <th>2021-01-20</th>\n",
       "      <td>143.589996</td>\n",
       "      <td>145.660004</td>\n",
       "      <td>142.889999</td>\n",
       "      <td>146.317141</td>\n",
       "      <td>145.509995</td>\n",
       "      <td>7925200</td>\n",
       "      <td>146.741223</td>\n",
       "    </tr>\n",
       "    <tr>\n",
       "      <th>2021-01-21</th>\n",
       "      <td>145.360001</td>\n",
       "      <td>145.729996</td>\n",
       "      <td>144.210007</td>\n",
       "      <td>145.968571</td>\n",
       "      <td>144.850006</td>\n",
       "      <td>4783300</td>\n",
       "      <td>146.702856</td>\n",
       "    </tr>\n",
       "    <tr>\n",
       "      <th>2021-01-22</th>\n",
       "      <td>145.600006</td>\n",
       "      <td>147.339996</td>\n",
       "      <td>145.119995</td>\n",
       "      <td>145.591428</td>\n",
       "      <td>146.330002</td>\n",
       "      <td>6398400</td>\n",
       "      <td>146.512244</td>\n",
       "    </tr>\n",
       "  </tbody>\n",
       "</table>\n",
       "<p>253 rows × 7 columns</p>\n",
       "</div>"
      ],
      "text/plain": [
       "                  Open        High         Low       Close   Adj Close  \\\n",
       "Date                                                                     \n",
       "2020-01-23  116.209999  116.309998  115.040001         NaN  113.908485   \n",
       "2020-01-24  116.000000  116.029999  114.150002         NaN  112.492134   \n",
       "2020-01-27  113.190002  116.230003  112.680000         NaN  113.957664   \n",
       "2020-01-28  115.980003  116.900002  115.949997         NaN  114.685501   \n",
       "2020-01-29  116.559998  117.120003  115.889999         NaN  113.987167   \n",
       "...                ...         ...         ...         ...         ...   \n",
       "2021-01-15  145.139999  145.899994  143.669998  146.942856  144.639999   \n",
       "2021-01-19  144.639999  145.070007  142.669998  146.477142  143.389999   \n",
       "2021-01-20  143.589996  145.660004  142.889999  146.317141  145.509995   \n",
       "2021-01-21  145.360001  145.729996  144.210007  145.968571  144.850006   \n",
       "2021-01-22  145.600006  147.339996  145.119995  145.591428  146.330002   \n",
       "\n",
       "              Volume  Close_check  \n",
       "Date                               \n",
       "2020-01-23   4305100          NaN  \n",
       "2020-01-24   4383400          NaN  \n",
       "2020-01-27   7018400          NaN  \n",
       "2020-01-28   5270200          NaN  \n",
       "2020-01-29   3775500          NaN  \n",
       "...              ...          ...  \n",
       "2021-01-15  11973500   146.521019  \n",
       "2021-01-19   8041200   146.666325  \n",
       "2021-01-20   7925200   146.741223  \n",
       "2021-01-21   4783300   146.702856  \n",
       "2021-01-22   6398400   146.512244  \n",
       "\n",
       "[253 rows x 7 columns]"
      ]
     },
     "execution_count": 15,
     "metadata": {},
     "output_type": "execute_result"
    }
   ],
   "source": [
    "df"
   ]
  },
  {
   "cell_type": "code",
   "execution_count": 16,
   "metadata": {},
   "outputs": [
    {
     "ename": "SyntaxError",
     "evalue": "invalid syntax (<ipython-input-16-fbe4ee8e1707>, line 1)",
     "output_type": "error",
     "traceback": [
      "\u001b[1;36m  File \u001b[1;32m\"<ipython-input-16-fbe4ee8e1707>\"\u001b[1;36m, line \u001b[1;32m1\u001b[0m\n\u001b[1;33m    ***actual\u001b[0m\n\u001b[1;37m    ^\u001b[0m\n\u001b[1;31mSyntaxError\u001b[0m\u001b[1;31m:\u001b[0m invalid syntax\n"
     ]
    }
   ],
   "source": [
    "***actual\n",
    "***rolling avg\n",
    "***upper band \n",
    "***lower band"
   ]
  },
  {
   "cell_type": "code",
   "execution_count": 22,
   "metadata": {},
   "outputs": [
    {
     "data": {
      "text/plain": [
       "<matplotlib.axes._subplots.AxesSubplot at 0x20773bf92b0>"
      ]
     },
     "execution_count": 22,
     "metadata": {},
     "output_type": "execute_result"
    },
    {
     "data": {
      "image/png": "[encoded data removed]",
      "text/plain": [
       "<Figure size 432x432 with 1 Axes>"
      ]
     },
     "metadata": {
      "needs_background": "light"
     },
     "output_type": "display_data"
    }
   ],
   "source": [
    "df['Close']\n",
    "df['Close MA 20']=df['Close'].rolling(20).mean()\n",
    "df['Upper']=df['Close MA 20']+2*(df['Close'].rolling(20).std())\n",
    "df['Lower']=df['Close MA 20']-2*(df['Close'].rolling(20).std())\n",
    "\n",
    "df[['Close','Close MA 20','Upper','Lower']].plot(figsize=(6,6))"
   ]
  },
  {
   "cell_type": "code",
   "execution_count": null,
   "metadata": {},
   "outputs": [],
   "source": []
  }
 ],
 "metadata": {
  "kernelspec": {
   "display_name": "Python 3",
   "language": "python",
   "name": "python3"
  },
  "language_info": {
   "codemirror_mode": {
    "name": "ipython",
    "version": 3
   },
   "file_extension": ".py",
   "mimetype": "text/x-python",
   "name": "python",
   "nbconvert_exporter": "python",
   "pygments_lexer": "ipython3",
   "version": "3.8.3"
  }
 },
 "nbformat": 4,
 "nbformat_minor": 4
}
